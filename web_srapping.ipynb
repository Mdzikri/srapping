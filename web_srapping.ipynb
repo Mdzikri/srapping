{
 "cells": [
  {
   "cell_type": "code",
   "execution_count": 1,
   "id": "a3145acb-96b3-4de4-b53d-062858eb1596",
   "metadata": {},
   "outputs": [
    {
     "name": "stdout",
     "output_type": "stream",
     "text": [
      "Requirement already satisfied: requests in ./anaconda3/lib/python3.11/site-packages (2.31.0)\n",
      "Requirement already satisfied: beautifulsoup4 in ./anaconda3/lib/python3.11/site-packages (4.12.2)\n",
      "Requirement already satisfied: pandas in ./anaconda3/lib/python3.11/site-packages (2.1.4)\n",
      "Requirement already satisfied: charset-normalizer<4,>=2 in ./anaconda3/lib/python3.11/site-packages (from requests) (2.0.4)\n",
      "Requirement already satisfied: idna<4,>=2.5 in ./anaconda3/lib/python3.11/site-packages (from requests) (3.4)\n",
      "Requirement already satisfied: urllib3<3,>=1.21.1 in ./anaconda3/lib/python3.11/site-packages (from requests) (2.0.7)\n",
      "Requirement already satisfied: certifi>=2017.4.17 in ./anaconda3/lib/python3.11/site-packages (from requests) (2024.2.2)\n",
      "Requirement already satisfied: soupsieve>1.2 in ./anaconda3/lib/python3.11/site-packages (from beautifulsoup4) (2.5)\n",
      "Collecting numpy<2,>=1.23.2 (from pandas)\n",
      "  Downloading numpy-1.26.4-cp311-cp311-manylinux_2_17_x86_64.manylinux2014_x86_64.whl.metadata (61 kB)\n",
      "\u001b[2K     \u001b[38;2;114;156;31m━━━━━━━━━━━━━━━━━━━━━━━━━━━━━━━━━━━━━━━\u001b[0m \u001b[32m61.0/61.0 kB\u001b[0m \u001b[31m460.7 kB/s\u001b[0m eta \u001b[36m0:00:00\u001b[0m1m583.0 kB/s\u001b[0m eta \u001b[36m0:00:01\u001b[0m\n",
      "\u001b[?25hRequirement already satisfied: python-dateutil>=2.8.2 in ./anaconda3/lib/python3.11/site-packages (from pandas) (2.8.2)\n",
      "Requirement already satisfied: pytz>=2020.1 in ./anaconda3/lib/python3.11/site-packages (from pandas) (2023.3.post1)\n",
      "Requirement already satisfied: tzdata>=2022.1 in ./anaconda3/lib/python3.11/site-packages (from pandas) (2023.3)\n",
      "Requirement already satisfied: six>=1.5 in ./anaconda3/lib/python3.11/site-packages (from python-dateutil>=2.8.2->pandas) (1.16.0)\n",
      "Downloading numpy-1.26.4-cp311-cp311-manylinux_2_17_x86_64.manylinux2014_x86_64.whl (18.3 MB)\n",
      "\u001b[2K   \u001b[38;2;114;156;31m━━━━━━━━━━━━━━━━━━━━━━━━━━━━━━━━━━━━━━━━\u001b[0m \u001b[32m18.3/18.3 MB\u001b[0m \u001b[31m2.4 MB/s\u001b[0m eta \u001b[36m0:00:00\u001b[0mm eta \u001b[36m0:00:01\u001b[0m[36m0:00:01\u001b[0m\n",
      "\u001b[?25hInstalling collected packages: numpy\n",
      "  Attempting uninstall: numpy\n",
      "    Found existing installation: numpy 1.22.0\n",
      "    Uninstalling numpy-1.22.0:\n",
      "      Successfully uninstalled numpy-1.22.0\n",
      "\u001b[31mERROR: pip's dependency resolver does not currently take into account all the packages that are installed. This behaviour is the source of the following dependency conflicts.\n",
      "gensim 4.3.0 requires FuzzyTM>=0.4.0, which is not installed.\u001b[0m\u001b[31m\n",
      "\u001b[0mSuccessfully installed numpy-1.26.4\n"
     ]
    }
   ],
   "source": [
    "!pip install requests beautifulsoup4 pandas\n"
   ]
  },
  {
   "cell_type": "code",
   "execution_count": 2,
   "id": "f53a0459-7d9e-441f-b883-d28b6ad01b52",
   "metadata": {},
   "outputs": [],
   "source": [
    "import requests\n",
    "from bs4 import BeautifulSoup\n",
    "import pandas as pd\n",
    "\n",
    "# URL dari halaman yang ingin di-scrape\n",
    "url = \"https://books.toscrape.com/\"\n"
   ]
  },
  {
   "cell_type": "code",
   "execution_count": 4,
   "id": "131c501a-36cd-4370-becc-b07570282dd0",
   "metadata": {},
   "outputs": [],
   "source": [
    "# Membuat request ke website\n",
    "response = requests.get(url)\n",
    "\n",
    "# Parsing konten website dengan Beautiful Soup\n",
    "soup = BeautifulSoup(response.text, 'html.parser')\n"
   ]
  },
  {
   "cell_type": "code",
   "execution_count": 5,
   "id": "1554309b-4fb6-47bd-b2c9-23b518033ccd",
   "metadata": {},
   "outputs": [],
   "source": [
    "# Mencari semua elemen yang mengandung data buku\n",
    "books = soup.find_all('article', class_='product_pod')\n",
    "\n",
    "# List untuk menyimpan data\n",
    "data = []\n",
    "\n",
    "# Meng-ekstrak data buku\n",
    "for book in books:\n",
    "    title = book.find('h3').find('a')['title']\n",
    "    price = book.find('p', class_='price_color').text\n",
    "    stock = book.find('p', class_='instock availability').text.strip()\n",
    "    data.append({\n",
    "        'title': title,\n",
    "        'price': price,\n",
    "        'stock': stock\n",
    "    })\n"
   ]
  },
  {
   "cell_type": "code",
   "execution_count": 8,
   "id": "98b3c618-5454-43dc-a33e-ace18a515001",
   "metadata": {},
   "outputs": [
    {
     "data": {
      "text/plain": [
       "[{'title': 'A Light in the Attic', 'price': 'Â£51.77', 'stock': 'In stock'},\n",
       " {'title': 'Tipping the Velvet', 'price': 'Â£53.74', 'stock': 'In stock'},\n",
       " {'title': 'Soumission', 'price': 'Â£50.10', 'stock': 'In stock'},\n",
       " {'title': 'Sharp Objects', 'price': 'Â£47.82', 'stock': 'In stock'},\n",
       " {'title': 'Sapiens: A Brief History of Humankind',\n",
       "  'price': 'Â£54.23',\n",
       "  'stock': 'In stock'},\n",
       " {'title': 'The Requiem Red', 'price': 'Â£22.65', 'stock': 'In stock'},\n",
       " {'title': 'The Dirty Little Secrets of Getting Your Dream Job',\n",
       "  'price': 'Â£33.34',\n",
       "  'stock': 'In stock'},\n",
       " {'title': 'The Coming Woman: A Novel Based on the Life of the Infamous Feminist, Victoria Woodhull',\n",
       "  'price': 'Â£17.93',\n",
       "  'stock': 'In stock'},\n",
       " {'title': 'The Boys in the Boat: Nine Americans and Their Epic Quest for Gold at the 1936 Berlin Olympics',\n",
       "  'price': 'Â£22.60',\n",
       "  'stock': 'In stock'},\n",
       " {'title': 'The Black Maria', 'price': 'Â£52.15', 'stock': 'In stock'},\n",
       " {'title': 'Starving Hearts (Triangular Trade Trilogy, #1)',\n",
       "  'price': 'Â£13.99',\n",
       "  'stock': 'In stock'},\n",
       " {'title': \"Shakespeare's Sonnets\", 'price': 'Â£20.66', 'stock': 'In stock'},\n",
       " {'title': 'Set Me Free', 'price': 'Â£17.46', 'stock': 'In stock'},\n",
       " {'title': \"Scott Pilgrim's Precious Little Life (Scott Pilgrim #1)\",\n",
       "  'price': 'Â£52.29',\n",
       "  'stock': 'In stock'},\n",
       " {'title': 'Rip it Up and Start Again',\n",
       "  'price': 'Â£35.02',\n",
       "  'stock': 'In stock'},\n",
       " {'title': 'Our Band Could Be Your Life: Scenes from the American Indie Underground, 1981-1991',\n",
       "  'price': 'Â£57.25',\n",
       "  'stock': 'In stock'},\n",
       " {'title': 'Olio', 'price': 'Â£23.88', 'stock': 'In stock'},\n",
       " {'title': 'Mesaerion: The Best Science Fiction Stories 1800-1849',\n",
       "  'price': 'Â£37.59',\n",
       "  'stock': 'In stock'},\n",
       " {'title': 'Libertarianism for Beginners',\n",
       "  'price': 'Â£51.33',\n",
       "  'stock': 'In stock'},\n",
       " {'title': \"It's Only the Himalayas\", 'price': 'Â£45.17', 'stock': 'In stock'}]"
      ]
     },
     "execution_count": 8,
     "metadata": {},
     "output_type": "execute_result"
    }
   ],
   "source": [
    "data"
   ]
  },
  {
   "cell_type": "code",
   "execution_count": 9,
   "id": "a49868fa-bd23-480d-815e-ab9c0bd13e09",
   "metadata": {},
   "outputs": [
    {
     "name": "stdout",
     "output_type": "stream",
     "text": [
      "Data telah disimpan ke file books.csv\n"
     ]
    }
   ],
   "source": [
    "df = pd.DataFrame(data)\n",
    "\n",
    "# Menyimpan data ke dalam file CSV\n",
    "df.to_csv('/home/dzikri/Desktop/DE/scrapping/books.csv', index=False)\n",
    "\n",
    "print(\"Data telah disimpan ke file books.csv\")\n",
    "\n"
   ]
  },
  {
   "cell_type": "code",
   "execution_count": null,
   "id": "c025ba53-a266-4471-aac2-5580421c7c7a",
   "metadata": {},
   "outputs": [],
   "source": []
  }
 ],
 "metadata": {
  "kernelspec": {
   "display_name": "Python 3 (ipykernel)",
   "language": "python",
   "name": "python3"
  },
  "language_info": {
   "codemirror_mode": {
    "name": "ipython",
    "version": 3
   },
   "file_extension": ".py",
   "mimetype": "text/x-python",
   "name": "python",
   "nbconvert_exporter": "python",
   "pygments_lexer": "ipython3",
   "version": "3.11.7"
  }
 },
 "nbformat": 4,
 "nbformat_minor": 5
}
